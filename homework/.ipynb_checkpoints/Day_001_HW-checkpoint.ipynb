{
 "cells": [
  {
   "cell_type": "markdown",
   "metadata": {},
   "source": [
    "## 練習時間\n",
    "#### 請寫一個函式用來計算 Mean Square Error\n",
    "$ MSE = \\frac{1}{n}\\sum_{i=1}^{n}{(Y_i - \\hat{Y}_i)^2} $\n",
    "\n",
    "### Hint: [如何取平方](https://googoodesign.gitbooks.io/-ezpython/unit-1.html)"
   ]
  },
  {
   "cell_type": "markdown",
   "metadata": {},
   "source": [
    "作業1：\n",
    "\n",
    "請上 Kaggle, 在 Competitions 或 Dataset 中找一組競賽或資料並寫下：\n",
    "\n",
    "我選擇的數據是紐約股市的資料。\n",
    " https://www.kaggle.com/dgawlik/nyse \n",
    "\n",
    "1. 你選的這組資料為何重要\n",
    "\n",
    "\t我的工作或接觸大量的金融證券相關資訊，而台灣以外的數據取得向來並不容易，大部分都要向彭博社購買，價格非常而貴。因此在網路上發現以這樣的資訊覺得非常的好。因此這個\"重要\"可能是若能預測股價的波動必定夠產生的價值。\n",
    "\n",
    "2. 資料從何而來 (tips: 譬如提供者是誰、以什麼方式蒐集)\n",
    "\n",
    "　　資料的來源除了作者自行整理之外，的來源是美國證交所（U.S. Securities and Exchange Commission's）。\n",
    "\n",
    "3. 蒐集而來的資料型態為何\n",
    "\n",
    "　　資料型態是結構化的。資料檔案是csv 有文字和數字型別。\n",
    "\n",
    "4. 這組資料想解決的問題如何評估\n",
    "\n",
    "    最直接的解決辦法應該是用回歸的方式做明天股價的預測。我以往的經驗多是真實波動區間去做一些回歸分析。\n",
    "\n",
    "作業2：\n",
    "\n",
    "想像你經營一個自由載客車隊，你希望能透過數據分析以提升業績，請你思考並描述你如何規劃整體的分析/解決方案：\n",
    "\n",
    "1. 核心問題為何 (tips：如何定義 「提升業績 & 你的假設」)\n",
    "\t\n",
    "    我認為提升業績，最重要的一點來自於向客戶差別訂價。舉例說，在一天中的某一個時間，總共有10輛車，但是有11位乘客時，那麼即便對這11乘客收取更高額的價格，相信乘客一樣會付錢。簡而言之，研究分析那些時段的客戶，對價格的接受度最高(不論多貴都會搭)。\n",
    "\n",
    "2. 資料從何而來 (tips：哪些資料可能會對你想問的問題產生影響 & 資料如何蒐集)\n",
    "\n",
    "　　初步構想，我大概會需要以下幾項數據\n",
    "\n",
    "　　2.1.在每一個時段中，同時工作的司機數/乘客數，司機數很單純可以用註冊牌照的人做紀錄，並且有開啟app營運中的人，就是司機數。乘客數一樣可以用當時開啟app的人做統計。\n",
    "\n",
    "    2.2乘客在看到多少價錢之後，會取消叫車。在開啟app已經規劃路線，但是再出現試算價格之後，卻取消的人，做統計。\n",
    "\n",
    "\n",
    "3. 蒐集而來的資料型態為何\n",
    "\n",
    "收集來的資料型，為結構化的數據，會有時間序列，應該使數值為主。\n",
    "\n",
    "4. 你要回答的問題，其如何評估 (tips：你的假設如何驗證)\n",
    "\n",
    "我要驗證的假設，可以用正確率來衡量，在特定的時段針對某些客戶調高價格。若客戶看到提高的價格，取消率卻沒有下降。即是一個成功的差別訂價。"
   ]
  },
  {
   "cell_type": "code",
   "execution_count": 5,
   "metadata": {},
   "outputs": [],
   "source": [
    "import numpy as np\n",
    "import matplotlib.pyplot as plt"
   ]
  },
  {
   "cell_type": "code",
   "execution_count": 6,
   "metadata": {},
   "outputs": [
    {
     "data": {
      "image/png": "[encoded data removed]",
      "text/plain": [
       "<Figure size 432x288 with 1 Axes>"
      ]
     },
     "metadata": {
      "needs_background": "light"
     },
     "output_type": "display_data"
    }
   ],
   "source": [
    "w = 3\n",
    "b = 0.5\n",
    "\n",
    "#np.linspace是產生固定間距數列的 0~100 產生101個數據\n",
    "x_lin = np.linspace(0, 100, 101)\n",
    "\n",
    "#np.random.randn 是用常態分配，產生隨機數據(101) 為產生101個 \n",
    "#每一個剛剛產生的X都加上一個隨機的Y 乘3之後加上0.5上\n",
    "\n",
    "y = (x_lin + np.random.randn(101) * 5) * w + b\n",
    "\n",
    "#plt.plot (X座雕，Y座標，\"藍色點點\", 標籤是數據點)\n",
    "#plt.legend 座標的位置\n",
    "plt.plot(x_lin, y, 'b.', label = 'data points')\n",
    "plt.title(\"Assume we have data points\")\n",
    "plt.legend(loc = 2)\n",
    "plt.show()\n"
   ]
  },
  {
   "cell_type": "code",
   "execution_count": 7,
   "metadata": {},
   "outputs": [
    {
     "data": {
      "image/png": "[encoded data removed]",
      "text/plain": [
       "<Figure size 432x288 with 1 Axes>"
      ]
     },
     "metadata": {
      "needs_background": "light"
     },
     "output_type": "display_data"
    }
   ],
   "source": [
    "y_hat = x_lin * w + b\n",
    "plt.plot(x_lin, y, 'b.', label = 'data')\n",
    "plt.plot(x_lin, y_hat, 'r-', label = 'prediction')\n",
    "plt.title(\"Assume we have data points (And the prediction)\")\n",
    "plt.legend(loc = 2)\n",
    "plt.show()"
   ]
  },
  {
   "cell_type": "code",
   "execution_count": 9,
   "metadata": {},
   "outputs": [
    {
     "name": "stdout",
     "output_type": "stream",
     "text": [
      "The Mean absolute error is 11.967\n"
     ]
    }
   ],
   "source": [
    "# 執行 Function, 確認有沒有正常執行\n",
    "def mean_absolute_error(y, yp):\n",
    "    \"\"\"\n",
    "    計算 MAE\n",
    "    Args:\n",
    "        - y: 實際值\n",
    "        - yp: 預測值\n",
    "    Return:\n",
    "        - mae: MAE\n",
    "    \"\"\"\n",
    "    mae = MAE = sum(abs(y - yp)) / len(y)\n",
    "    return mae\n",
    "\n",
    "MAE = mean_absolute_error(y, y_hat)\n",
    "\n",
    "print(\"The Mean absolute error is %.3f\" % (MAE))\n",
    "\n"
   ]
  },
  {
   "cell_type": "code",
   "execution_count": 10,
   "metadata": {},
   "outputs": [
    {
     "name": "stdout",
     "output_type": "stream",
     "text": [
      "The Mean squared error is 211.864\n"
     ]
    }
   ],
   "source": [
    "def mean_squared_error(y,yp):\n",
    "    \"\"\"\n",
    "    請完成這個 Function 後往下執行\n",
    "    \"\"\"\n",
    "    \"\"\"\n",
    "    計算 MSE\n",
    "    Args:\n",
    "        - y: 實際值\n",
    "        - yp: 預測值\n",
    "    Return:\n",
    "        - mse: MSE\n",
    "    \"\"\"\n",
    "    mse = MSE = sum((y - yp)**2) / len(y)\n",
    "    return mse\n",
    "\n",
    "MSE = mean_squared_error(y, y_hat)\n",
    "print(\"The Mean squared error is %.3f\" % (MSE))"
   ]
  },
  {
   "cell_type": "code",
   "execution_count": null,
   "metadata": {},
   "outputs": [],
   "source": []
  }
 ],
 "metadata": {
  "anaconda-cloud": {},
  "kernelspec": {
   "display_name": "Python 3",
   "language": "python",
   "name": "python3"
  },
  "language_info": {
   "codemirror_mode": {
    "name": "ipython",
    "version": 3
   },
   "file_extension": ".py",
   "mimetype": "text/x-python",
   "name": "python",
   "nbconvert_exporter": "python",
   "pygments_lexer": "ipython3",
   "version": "3.7.3"
  }
 },
 "nbformat": 4,
 "nbformat_minor": 1
}
